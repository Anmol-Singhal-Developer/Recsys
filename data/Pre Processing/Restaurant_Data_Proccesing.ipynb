{
 "cells": [
  {
   "cell_type": "code",
   "execution_count": 1,
   "id": "4fa882ae",
   "metadata": {},
   "outputs": [],
   "source": [
    "import pandas as pd\n",
    "import numpy as np\n",
    "import ast\n",
    "import re\n",
    "from sklearn.preprocessing import MultiLabelBinarizer"
   ]
  },
  {
   "cell_type": "code",
   "execution_count": 2,
   "id": "467d91f9",
   "metadata": {},
   "outputs": [],
   "source": [
    "Current_File = \"Restaurants.xlsx\"\n",
    "Processed_File= \"Data_Restaurants.xlsx\""
   ]
  },
  {
   "cell_type": "code",
   "execution_count": 3,
   "id": "a1ab5f18",
   "metadata": {},
   "outputs": [
    {
     "name": "stdout",
     "output_type": "stream",
     "text": [
      "Current data shape :  (212589, 18)\n"
     ]
    }
   ],
   "source": [
    "df = pd.read_excel(Current_File)\n",
    "print(\"Current data shape : \", df.shape)"
   ]
  },
  {
   "cell_type": "code",
   "execution_count": 4,
   "id": "1206e466",
   "metadata": {},
   "outputs": [
    {
     "name": "stdout",
     "output_type": "stream",
     "text": [
      "Current Column name : \n",
      "['res_id', 'name', 'establishment', 'url', 'address', 'city', 'city_id', 'locality', 'zipcode', 'cuisines', 'timings', 'average_cost_for_two', 'price_range', 'currency', 'highlights', 'aggregate_rating', 'rating_text', 'votes']\n",
      "Column names are standardized. Below are all the new column names : \n",
      "['ResId', 'Name', 'Establishment', 'Url', 'Address', 'City', 'CityId', 'Locality', 'Zipcode', 'Cuisines', 'Timings', 'AverageCostForTwo', 'PriceRange', 'Currency', 'Highlights', 'AggregateRating', 'RatingText', 'Votes']\n"
     ]
    }
   ],
   "source": [
    "print(\"Current Column name : \")\n",
    "print(df.columns.tolist())\n",
    "df.columns = [colum.strip().replace(\"_\", \" \").title().replace(\" \", \"\") for colum in df.columns]\n",
    "print(\"Column names are standardized. Below are all the new column names : \")\n",
    "print(df.columns.tolist())"
   ]
  },
  {
   "cell_type": "code",
   "execution_count": 5,
   "id": "d60bf383",
   "metadata": {},
   "outputs": [
    {
     "name": "stdout",
     "output_type": "stream",
     "text": [
      "The column 'Establishment' has been converted into a list element.\n",
      "The column 'Highlights' has been converted into a list element.\n"
     ]
    }
   ],
   "source": [
    "def Transform_List(x):\n",
    "    try:\n",
    "        if isinstance(x, str):\n",
    "            val = ast.literal_eval(x)\n",
    "            if isinstance(val, list):\n",
    "                return [element.strip().title() for element in val if isinstance(element, str)]\n",
    "            else:\n",
    "                return [str(val).strip().title()]\n",
    "        elif isinstance(x, list):\n",
    "            return [element.strip().title() for element in x if isinstance(element, str)]\n",
    "        else:\n",
    "            return [str(x).strip().title()]\n",
    "    except:\n",
    "        return [str(x).strip().title()]\n",
    "\n",
    "for col_val in [\"Establishment\", \"Highlights\"]:\n",
    "    if col_val  in df.columns:\n",
    "        df[col_val ] = df[col_val].apply(Transform_List)\n",
    "        print(f\"The column '{col_val}' has been converted into a list element.\")"
   ]
  },
  {
   "cell_type": "code",
   "execution_count": null,
   "id": "d46404e9",
   "metadata": {},
   "outputs": [
    {
     "name": "stdout",
     "output_type": "stream",
     "text": [
      "Removed 156912 duplicate rows\n"
     ]
    }
   ],
   "source": [
    "temp = len(df)\n",
    "df = df.drop_duplicates(subset=[\"ResId\", \"Name\", \"Address\", \"City\"])\n",
    "print(f\"Removed {temp - len(df)} duplicate rows.\")"
   ]
  },
  {
   "cell_type": "code",
   "execution_count": 7,
   "id": "780ea60c",
   "metadata": {},
   "outputs": [
    {
     "name": "stdout",
     "output_type": "stream",
     "text": [
      "Dropped 685 rows with nulls in essential columns.\n"
     ]
    }
   ],
   "source": [
    "essential_columns = [\"ResId\", \"Name\", \"Address\", \"City\", \"Cuisines\", \"AggregateRating\"]\n",
    "temp = len(df)\n",
    "df = df.dropna(subset=essential_columns)\n",
    "print(f\"Dropped {temp - len(df)} rows with nulls in essential columns.\")"
   ]
  },
  {
   "cell_type": "code",
   "execution_count": 8,
   "id": "db5d6fc0",
   "metadata": {},
   "outputs": [
    {
     "name": "stdout",
     "output_type": "stream",
     "text": [
      "Normalized the text and numeric fields.\n"
     ]
    }
   ],
   "source": [
    "df[\"Cuisines\"] = df[\"Cuisines\"].str.lower().str.strip()\n",
    "df[\"AggregateRating\"] = pd.to_numeric(df[\"AggregateRating\"], errors='coerce')\n",
    "df[\"AverageCostForTwo\"] = pd.to_numeric(df[\"AverageCostForTwo\"], errors='coerce')\n",
    "df[\"PriceRange\"] = pd.to_numeric(df[\"PriceRange\"], errors='coerce')\n",
    "df = df.dropna(subset=[\"AggregateRating\", \"AverageCostForTwo\", \"PriceRange\"])\n",
    "for col_val in [\"Address\", \"City\", \"Locality\"]:\n",
    "    df[col_val] = df[col_val].astype(str).str.strip().str.title()\n",
    "print(\"Normalized the text and numeric fields.\")"
   ]
  },
  {
   "cell_type": "code",
   "execution_count": null,
   "id": "6b226258",
   "metadata": {},
   "outputs": [
    {
     "name": "stdout",
     "output_type": "stream",
     "text": [
      "Normalized votes column. \n"
     ]
    }
   ],
   "source": [
    "df[\"Votes\"] = pd.to_numeric(df[\"Votes\"], errors='coerce')\n",
    "df[\"Votes\"] = df[\"Votes\"].apply(lambda y: y if y >= 0 else 0)\n",
    "df[\"Votes\"] = df[\"Votes\"].fillna(0)\n",
    "df[\"VotesLog\"] = np.log1p(df[\"Votes\"])\n",
    "print(\"Normalized votes column. \")"
   ]
  },
  {
   "cell_type": "code",
   "execution_count": 10,
   "id": "04140936",
   "metadata": {},
   "outputs": [
    {
     "name": "stdout",
     "output_type": "stream",
     "text": [
      "Normalized AggregateRating between 0–1.\n"
     ]
    }
   ],
   "source": [
    "df[\"AggregateRating\"] = pd.to_numeric(df[\"AggregateRating\"], errors='coerce')\n",
    "df = df[df[\"AggregateRating\"].notna()]  \n",
    "df = df[df[\"AggregateRating\"] > 0]     \n",
    "df = df.reset_index(drop=True)\n",
    "rating_minimum = df[\"AggregateRating\"].min()\n",
    "rating_maximum = df[\"AggregateRating\"].max()\n",
    "if rating_maximum > rating_minimum:\n",
    "    df[\"RatingNormalized\"] = (df[\"AggregateRating\"] - rating_minimum) / (rating_maximum - rating_minimum)\n",
    "    print(\"Normalized AggregateRating between 0–1.\")\n",
    "else:\n",
    "    df[\"RatingNormalized\"] = 1.0\n",
    "    print(\"All ratings are identical, setted RatingNormalized to 1.0\")\n"
   ]
  },
  {
   "cell_type": "code",
   "execution_count": 11,
   "id": "c2f70a6f",
   "metadata": {},
   "outputs": [
    {
     "name": "stdout",
     "output_type": "stream",
     "text": [
      "Converted Cuisines coulmn values into list.\n"
     ]
    }
   ],
   "source": [
    "df[\"CuisineList\"] = df[\"Cuisines\"].apply(lambda y: [c.strip().title() for c in y.split(\",\")])\n",
    "print(\"Converted Cuisines coulmn values into list.\")"
   ]
  },
  {
   "cell_type": "code",
   "execution_count": 12,
   "id": "3ba9084c",
   "metadata": {},
   "outputs": [
    {
     "name": "stdout",
     "output_type": "stream",
     "text": [
      "One-hot encoded is applied on highlights column.\n"
     ]
    }
   ],
   "source": [
    "change = MultiLabelBinarizer()\n",
    "highlight_encoded = pd.DataFrame(change.fit_transform(df[\"Highlights\"]), columns=[f\"Highlight_{c}\" for c in change.classes_])\n",
    "df = pd.concat([df, highlight_encoded], axis=1)\n",
    "print(\"One-hot encoded is applied on highlights column.\")\n"
   ]
  },
  {
   "cell_type": "code",
   "execution_count": 13,
   "id": "7556eaa5",
   "metadata": {},
   "outputs": [
    {
     "name": "stdout",
     "output_type": "stream",
     "text": [
      "Added a column CityPopularity, having the score of how popular a city is. \n"
     ]
    }
   ],
   "source": [
    "city_frequency = df[\"City\"].value_counts().to_dict()\n",
    "df[\"CityPopularity\"] = df[\"City\"].map(city_frequency)\n",
    "print(\"Added a column CityPopularity, having the score of how popular a city is. \")"
   ]
  },
  {
   "cell_type": "code",
   "execution_count": 14,
   "id": "fd2f8f07",
   "metadata": {},
   "outputs": [
    {
     "name": "stdout",
     "output_type": "stream",
     "text": [
      "Extracted features about open days of restaurant, weekend opening and open all week. \n"
     ]
    }
   ],
   "source": [
    "def Open_days(text):\n",
    "    if not isinstance(text, str): return 0\n",
    "    days = re.findall(r\"(Mon|Tue|Wed|Thu|Fri|Sat|Sun)\", text, flags=re.IGNORECASE)\n",
    "    return len(set(day.lower() for day in days))\n",
    "\n",
    "def Is_open_all_week(days): return 1 if days == 7 else 0\n",
    "def Is_weekend_open(text):\n",
    "    if not isinstance(text, str): return 0\n",
    "    return int(bool(re.search(r\"(Sat|Sun)\", text, flags=re.IGNORECASE)))\n",
    "\n",
    "df[\"OpenDays\"] = df[\"Timings\"].apply(Open_days)\n",
    "df[\"IsOpenAllWeek\"] = df[\"OpenDays\"].apply(Is_open_all_week)\n",
    "df[\"IsWeekendOpen\"] = df[\"Timings\"].apply(Is_weekend_open)\n",
    "print(\"Extracted features about open days of restaurant, weekend opening and open all week. \")\n"
   ]
  },
  {
   "cell_type": "code",
   "execution_count": 15,
   "id": "705059da",
   "metadata": {},
   "outputs": [
    {
     "name": "stdout",
     "output_type": "stream",
     "text": [
      "Extracted the OpeningTime and ClosingTime of the restaurant\n"
     ]
    }
   ],
   "source": [
    "def Open_Close_Time(text):\n",
    "    if not isinstance(text, str):\n",
    "        return (None, None)\n",
    "    times = re.findall(r\"(\\d{1,2}[:.]?\\d{0,2}\\s*(?:AM|PM))\", text, flags=re.IGNORECASE)\n",
    "    if len(times) >= 2:\n",
    "        opening = times[0]\n",
    "        closing = times[-1]\n",
    "        return (opening, closing)\n",
    "    else:\n",
    "        return (None, None)\n",
    "\n",
    "df[[\"OpeningTime\", \"ClosingTime\"]] = df[\"Timings\"].apply(lambda y: pd.Series(Open_Close_Time(y)))\n",
    "print(\"Extracted the OpeningTime and ClosingTime of the restaurant\")"
   ]
  },
  {
   "cell_type": "code",
   "execution_count": null,
   "id": "910aadfc",
   "metadata": {},
   "outputs": [
    {
     "name": "stdout",
     "output_type": "stream",
     "text": [
      "Removed 191 rows with 0 ratin g or 0 cost\n"
     ]
    }
   ],
   "source": [
    "temp = len(df)\n",
    "df = df[(df[\"AggregateRating\"] > 0) & (df[\"AverageCostForTwo\"] > 0)]\n",
    "print(f\"Removed {temp - len(df)} rows with 0 rating or 0 cost\")"
   ]
  },
  {
   "cell_type": "code",
   "execution_count": 17,
   "id": "312b6cd8",
   "metadata": {},
   "outputs": [
    {
     "name": "stdout",
     "output_type": "stream",
     "text": [
      "Final cleaned data saved to: Data_Restaurants.xlsx\n",
      "Final counts of processed file : (45143, 130)\n"
     ]
    }
   ],
   "source": [
    "df = df.reset_index(drop=True)\n",
    "df.to_excel(Processed_File, index=False)\n",
    "print(f\"Final cleaned data saved to: {Processed_File}\")\n",
    "print(\"Final counts of processed file :\", df.shape)"
   ]
  }
 ],
 "metadata": {
  "kernelspec": {
   "display_name": "base",
   "language": "python",
   "name": "python3"
  },
  "language_info": {
   "codemirror_mode": {
    "name": "ipython",
    "version": 3
   },
   "file_extension": ".py",
   "mimetype": "text/x-python",
   "name": "python",
   "nbconvert_exporter": "python",
   "pygments_lexer": "ipython3",
   "version": "3.12.7"
  }
 },
 "nbformat": 4,
 "nbformat_minor": 5
}
