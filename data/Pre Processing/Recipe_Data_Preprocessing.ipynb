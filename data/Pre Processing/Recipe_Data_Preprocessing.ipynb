{
 "cells": [
  {
   "cell_type": "code",
   "execution_count": 19,
   "id": "d536a323",
   "metadata": {},
   "outputs": [],
   "source": [
    "import pandas as pd\n",
    "import re"
   ]
  },
  {
   "cell_type": "code",
   "execution_count": 20,
   "id": "e851b610",
   "metadata": {},
   "outputs": [],
   "source": [
    "Raw_File = \"Final_Recipe.xlsx\"\n",
    "Output_File = \"Final_Recipe_Cleaned.xlsx\""
   ]
  },
  {
   "cell_type": "code",
   "execution_count": 21,
   "id": "2a9e9b47",
   "metadata": {},
   "outputs": [],
   "source": [
    "Convert_To_List= {\n",
    "    \"keywords\":      \"keywords_clean\",\n",
    "    \"recipeingredientparts\": \"ingredients\",\n",
    "    \"recipeinstructions\":    \"steps\",\n",
    "}"
   ]
  },
  {
   "cell_type": "code",
   "execution_count": 22,
   "id": "f7ae898f",
   "metadata": {},
   "outputs": [],
   "source": [
    "Tag_Sets = {\n",
    "    \"cuisine\": {\"north-american\",\"mexican\",\"american\",\"asian\",\"indian\",\n",
    "                \"italian\",\"french\",\"chinese\",\"japanese\",\"canadian\",\n",
    "                \"hawaiian\",\"south-west-pacific\",\"californian\",\n",
    "                \"northeastern-united-states\"},\n",
    "    \"dietary\": {\"vegetarian\",\"vegan\",\"gluten-free\",\"lactose-free\",\n",
    "                \"low-sodium\",\"low-carb\",\"low-fat\",\"low-cholesterol\",\n",
    "                \"low-protein\",\"low-saturated-fat\",\"free-of-something\",\n",
    "                \"healthy\",\"high-calcium\"},\n",
    "    \"special\": {\"easy\",\"kid-friendly\",\"holiday-event\",\"comfort-food\",\n",
    "                \"inexpensive\",\"super-bowl\",\"beginner-cook\",\"picnic\",\n",
    "                \"copycat\",\"novelty\",\"presentation\",\"dinner-party\",\n",
    "                \"taste-mood\",\"to-go\",\"seasonal\"},\n",
    "    \"equipment\": {\"oven\",\"stove-top\",\"deep-fry\",\"grilling\",\"mixer\",\n",
    "                  \"food-processor-blender\",\"small-appliance\",\"equipment\"},\n",
    "}"
   ]
  },
  {
   "cell_type": "code",
   "execution_count": 23,
   "id": "212b4989",
   "metadata": {},
   "outputs": [],
   "source": [
    "\n",
    "def parse_to_list(val: str) -> list[str]:\n",
    "    if pd.isna(val):\n",
    "        return []\n",
    "    s = str(val).strip()\n",
    "    s = re.sub(r'^c\\(', '', s, flags=re.IGNORECASE).rstrip(')')\n",
    "    parts = re.split(r'\"\\s*,\\s*\"|\"\\s*,|,\\s*', s)\n",
    "    clean = []\n",
    "    for p in parts:\n",
    "        p = p.strip().strip('\"\\' \\u2026.')\n",
    "        if p:\n",
    "            clean.append(p.lower())\n",
    "    return clean"
   ]
  },
  {
   "cell_type": "code",
   "execution_count": 24,
   "id": "f2c97e5b",
   "metadata": {},
   "outputs": [],
   "source": [
    "def extract_time(s: str) -> str | None:\n",
    "    if pd.isna(s): \n",
    "        return None\n",
    "    m = re.search(r'(\\d{1,2}:\\d{2}(?::\\d{2})?)', str(s))\n",
    "    return m.group(1) if m else None"
   ]
  },
  {
   "cell_type": "code",
   "execution_count": 25,
   "id": "01a8e74b",
   "metadata": {},
   "outputs": [
    {
     "name": "stdout",
     "output_type": "stream",
     "text": [
      "1️⃣  Loaded raw data: (522517, 20)\n"
     ]
    }
   ],
   "source": [
    "df = pd.read_excel(Raw_File)\n",
    "print(f\"1️⃣  Loaded raw data: {df.shape}\")"
   ]
  },
  {
   "cell_type": "code",
   "execution_count": 27,
   "id": "11bf4d2f",
   "metadata": {},
   "outputs": [
    {
     "name": "stdout",
     "output_type": "stream",
     "text": [
      "2️⃣  Columns Names :  ['recipeid', 'name', 'preptime', 'totaltime', 'recipecategory', 'keywords', 'recipeingredientparts', 'aggregatedrating', 'reviewcount', 'calories', 'fatcontent', 'saturatedfatcontent', 'cholesterolcontent', 'sodiumcontent', 'carbohydratecontent', 'fibercontent', 'sugarcontent', 'proteincontent', 'recipeservings', 'recipeinstructions']\n"
     ]
    }
   ],
   "source": [
    "df.columns = (\n",
    "    df.columns\n",
    "      .str.strip()\n",
    "      .str.lower()\n",
    "      .str.replace(r'[^\\w]+', '_', regex=True)\n",
    ")\n",
    "print(\"2️⃣  Columns Names : \", list(df.columns))"
   ]
  },
  {
   "cell_type": "code",
   "execution_count": 28,
   "id": "050e8ca5",
   "metadata": {},
   "outputs": [
    {
     "name": "stdout",
     "output_type": "stream",
     "text": [
      "Removed rows with missing importanr values : 17237\n"
     ]
    }
   ],
   "source": [
    "before = len(df)\n",
    "df.dropna(subset=[\"name\",\"keywords\",\"recipeingredientparts\",\"recipeinstructions\"], inplace=True)\n",
    "print(f\"Removed rows with missing importanr values : {before - len(df)}\")"
   ]
  },
  {
   "cell_type": "code",
   "execution_count": 29,
   "id": "5c5c99b0",
   "metadata": {},
   "outputs": [],
   "source": [
    "df[\"name\"] = df[\"name\"].astype(str).str.strip().str.lower()"
   ]
  },
  {
   "cell_type": "code",
   "execution_count": 30,
   "id": "b7801706",
   "metadata": {},
   "outputs": [
    {
     "name": "stdout",
     "output_type": "stream",
     "text": [
      " Parsed `keywords` → `keywords_clean`, sample: ['dessert', 'low protein', 'low cholesterol', 'healthy', 'free of', 'summer', 'weeknight', 'freezer', 'easy']\n",
      " Parsed `recipeingredientparts` → `ingredients`, sample: ['blueberries', 'granulated sugar', 'vanilla yogurt', 'lemon juice']\n",
      " Parsed `recipeinstructions` → `steps`, sample: ['toss 2 cups berries with sugar', 'let stand for 45 minutes', 'stirring occasionally', 'transfer berry-sugar mixture to food processor', 'add yogurt and process until smooth', \"strain through fine sieve. pour into baking pan (or transfer to ice cream maker and process according to manufacturers' directions). freeze uncovered until edges are solid but centre is soft.  transfer to processor and blend until smooth again\", 'return to pan and freeze until edges are solid', 'transfer to processor and blend until smooth again', 'fold in remaining 2 cups of blueberries', 'pour into plastic mold and freeze overnight. let soften slightly to serve']\n"
     ]
    }
   ],
   "source": [
    "for raw, clean in Convert_To_List.items():\n",
    "    df[clean] = df[raw].apply(parse_to_list)\n",
    "    print(f\" Parsed `{raw}` → `{clean}`, sample: {df[clean].iat[0]}\")\n",
    "df.drop(columns=list(Convert_To_List), inplace=True)\n"
   ]
  },
  {
   "cell_type": "code",
   "execution_count": 31,
   "id": "3f06295f",
   "metadata": {},
   "outputs": [
    {
     "name": "stdout",
     "output_type": "stream",
     "text": [
      "`cuisine` extracted, 7 unique sample → ['asian', 'canadian', 'chinese', 'hawaiian', 'indian']\n",
      "`dietary` extracted, 2 unique sample → ['healthy', 'vegan']\n",
      "`special` extracted, 2 unique sample → ['easy', 'inexpensive']\n",
      "`equipment` extracted, 2 unique sample → ['mixer', 'oven']\n"
     ]
    }
   ],
   "source": [
    "for cat, tagset in Tag_Sets.items():\n",
    "    df[cat] = df[\"keywords_clean\"].apply(lambda tags: [t for t in tags if t in tagset])\n",
    "    uniques = sorted({t for row in df[cat] for t in row})\n",
    "    print(f\"`{cat}` extracted, {len(uniques)} unique sample → {uniques[:5]}\")\n"
   ]
  },
  {
   "cell_type": "code",
   "execution_count": 32,
   "id": "e4ffea15",
   "metadata": {},
   "outputs": [
    {
     "name": "stdout",
     "output_type": "stream",
     "text": [
      " Ingredient counts: count    505280.000000\n",
      "mean          7.879231\n",
      "std           3.945831\n",
      "min           1.000000\n",
      "25%           5.000000\n",
      "50%           7.000000\n",
      "75%          10.000000\n",
      "max          44.000000\n",
      "Name: num_ingredients, dtype: float64\n",
      " Step counts:       count    505280.000000\n",
      "mean         12.273247\n",
      "std           8.030155\n",
      "min           0.000000\n",
      "25%           7.000000\n",
      "50%          11.000000\n",
      "75%          16.000000\n",
      "max         157.000000\n",
      "Name: num_steps, dtype: float64\n"
     ]
    }
   ],
   "source": [
    "df[\"num_ingredients\"] = df[\"ingredients\"].str.len()\n",
    "df[\"num_steps\"]       = df[\"steps\"].str.len()\n",
    "print(\" Ingredient counts:\", df[\"num_ingredients\"].describe())\n",
    "print(\" Step counts:      \", df[\"num_steps\"].describe())"
   ]
  },
  {
   "cell_type": "code",
   "execution_count": 33,
   "id": "1adea240",
   "metadata": {},
   "outputs": [
    {
     "name": "stdout",
     "output_type": "stream",
     "text": [
      " `preptime` cleaned: dropped 0 invalid entries\n",
      " `totaltime` cleaned: dropped 0 invalid entries\n"
     ]
    }
   ],
   "source": [
    "for tcol in [\"preptime\",\"totaltime\"]:\n",
    "    if tcol in df:\n",
    "        before = df[tcol].notna().sum()\n",
    "        df[tcol] = df[tcol].apply(extract_time)\n",
    "        after = df[tcol].notna().sum()\n",
    "        print(f\" `{tcol}` cleaned: dropped {before-after} invalid entries\")\n"
   ]
  },
  {
   "cell_type": "code",
   "execution_count": 34,
   "id": "c9afb86d",
   "metadata": {},
   "outputs": [
    {
     "name": "stdout",
     "output_type": "stream",
     "text": [
      " `rating` has 242321 NaNs after numeric\n",
      " `review_count` has 236771 NaNs after numeric\n"
     ]
    }
   ],
   "source": [
    "rename_map = {\n",
    "    \"recipeid\":          \"recipe_id\",\n",
    "    \"recipecategory\":    \"recipe_category\",\n",
    "    \"aggregatedrating\":  \"rating\",\n",
    "    \"reviewcount\":       \"review_count\",\n",
    "    \"recipeservings\":    \"recipe_servings\",\n",
    "    \"fatcontent\":        \"fat_content\",\n",
    "    \"saturatedfatcontent\":\"saturated_fat_content\",\n",
    "    \"cholesterolcontent\":\"cholesterol_content\",\n",
    "    \"sodiumcontent\":     \"sodium_content\",\n",
    "    \"carbohydratecontent\":\"carbohydrate_content\",\n",
    "    \"fibercontent\":      \"fiber_content\",\n",
    "    \"sugarcontent\":      \"sugar_content\",\n",
    "    \"proteincontent\":    \"protein_content\",\n",
    "}\n",
    "df.rename(columns=rename_map, inplace=True)\n",
    "for col in [\"rating\",\"review_count\"]:\n",
    "    if col in df:\n",
    "        df[col] = pd.to_numeric(df[col], errors=\"coerce\")\n",
    "        print(f\" `{col}` has {df[col].isna().sum()} NaNs after numeric\")"
   ]
  },
  {
   "cell_type": "code",
   "execution_count": 35,
   "id": "0913fba6",
   "metadata": {},
   "outputs": [
    {
     "name": "stdout",
     "output_type": "stream",
     "text": [
      "Duplicates dropped: 81873\n"
     ]
    }
   ],
   "source": [
    "before = len(df)\n",
    "df.drop_duplicates(subset=[\"name\"], inplace=True)\n",
    "print(f\"Duplicates dropped: {before - len(df)}\")"
   ]
  },
  {
   "cell_type": "code",
   "execution_count": 36,
   "id": "4b039212",
   "metadata": {},
   "outputs": [
    {
     "name": "stdout",
     "output_type": "stream",
     "text": [
      "Final cleaned shape: (423407, 26)\n",
      "Saved cleaned data to Final_Recipe_Cleaned.xlsx\n"
     ]
    }
   ],
   "source": [
    "df.reset_index(drop=True, inplace=True)\n",
    "df.columns = df.columns.str.replace('_', ' ').str.title()\n",
    "print(f\"Final cleaned shape: {df.shape}\")\n",
    "df.to_excel(Output_File, index=False)\n",
    "print(f\"Saved cleaned data to {Output_File}\")\n"
   ]
  }
 ],
 "metadata": {
  "kernelspec": {
   "display_name": "base",
   "language": "python",
   "name": "python3"
  },
  "language_info": {
   "codemirror_mode": {
    "name": "ipython",
    "version": 3
   },
   "file_extension": ".py",
   "mimetype": "text/x-python",
   "name": "python",
   "nbconvert_exporter": "python",
   "pygments_lexer": "ipython3",
   "version": "3.12.7"
  }
 },
 "nbformat": 4,
 "nbformat_minor": 5
}
