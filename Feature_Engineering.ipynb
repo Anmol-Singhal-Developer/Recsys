{
 "cells": [
  {
   "cell_type": "code",
   "execution_count": 1,
   "id": "3d538252",
   "metadata": {},
   "outputs": [],
   "source": [
    "import pandas as pd\n",
    "import numpy as np"
   ]
  },
  {
   "cell_type": "code",
   "execution_count": 2,
   "id": "8c8f469c",
   "metadata": {},
   "outputs": [],
   "source": [
    "restaurants = pd.read_excel('Data_Restaurants.xlsx')\n",
    "recipes     = pd.read_excel('Final_Recipe_Cleaned.xlsx')\n",
    "nutrition   = pd.read_excel('Food_Nutrition_Cleaned_Final.xlsx')"
   ]
  },
  {
   "cell_type": "code",
   "execution_count": null,
   "id": "c5c83113",
   "metadata": {},
   "outputs": [],
   "source": [
    "restaurants = restaurants.drop(columns=['Zipcode'])            # dropping as 76% data in this field is missing\n",
    "nutrition   = nutrition.drop(columns=['Choline'])              # dropping as 48% data is missing\n",
    "# I am adding this as columns with really less dtaa will add nosie and it will drop the data quality for my model trianing. "
   ]
  },
  {
   "cell_type": "code",
   "execution_count": null,
   "id": "20762c3d",
   "metadata": {},
   "outputs": [
    {
     "name": "stderr",
     "output_type": "stream",
     "text": [
      "/var/folders/yv/f9fb76l15fb9d7249jmc3v2w0000gn/T/ipykernel_18709/1446268867.py:2: UserWarning: Could not infer format, so each element will be parsed individually, falling back to `dateutil`. To ensure parsing is consistent and as-expected, please specify a format.\n",
      "  restaurants['OpeningHour'] = pd.to_datetime(restaurants['OpeningTime'], errors='coerce').dt.hour\n",
      "/var/folders/yv/f9fb76l15fb9d7249jmc3v2w0000gn/T/ipykernel_18709/1446268867.py:3: UserWarning: Could not infer format, so each element will be parsed individually, falling back to `dateutil`. To ensure parsing is consistent and as-expected, please specify a format.\n",
      "  restaurants['ClosingHour'] = pd.to_datetime(restaurants['ClosingTime'], errors='coerce').dt.hour\n",
      "/var/folders/yv/f9fb76l15fb9d7249jmc3v2w0000gn/T/ipykernel_18709/1446268867.py:6: FutureWarning: A value is trying to be set on a copy of a DataFrame or Series through chained assignment using an inplace method.\n",
      "The behavior will change in pandas 3.0. This inplace method will never work because the intermediate object on which we are setting values always behaves as a copy.\n",
      "\n",
      "For example, when doing 'df[col].method(value, inplace=True)', try using 'df.method({col: value}, inplace=True)' or df[col] = df[col].method(value) instead, to perform the operation inplace on the original object.\n",
      "\n",
      "\n",
      "  restaurants['OpeningHour'].fillna(opening, inplace=True)\n",
      "/var/folders/yv/f9fb76l15fb9d7249jmc3v2w0000gn/T/ipykernel_18709/1446268867.py:7: FutureWarning: A value is trying to be set on a copy of a DataFrame or Series through chained assignment using an inplace method.\n",
      "The behavior will change in pandas 3.0. This inplace method will never work because the intermediate object on which we are setting values always behaves as a copy.\n",
      "\n",
      "For example, when doing 'df[col].method(value, inplace=True)', try using 'df.method({col: value}, inplace=True)' or df[col] = df[col].method(value) instead, to perform the operation inplace on the original object.\n",
      "\n",
      "\n",
      "  restaurants['ClosingHour'].fillna(closing, inplace=True)\n"
     ]
    }
   ],
   "source": [
    "# Fixing the opening and closing timmming in redstaurant dataset\n",
    "restaurants['OpeningHour'] = pd.to_datetime(restaurants['OpeningTime'], errors='coerce').dt.hour\n",
    "restaurants['ClosingHour'] = pd.to_datetime(restaurants['ClosingTime'], errors='coerce').dt.hour\n",
    "opening  = restaurants['OpeningHour'].mode()[0]\n",
    "closing = restaurants['ClosingHour'].mode()[0]\n",
    "restaurants['OpeningHour'].fillna(opening, inplace=True)\n",
    "restaurants['ClosingHour'].fillna(closing, inplace=True)\n",
    "# Extracted opening and closing hour. Filling the time data in columns where it is null on the basis of average. This will help me to preserve the data and calculate how many hours each place is open in the future."
   ]
  },
  {
   "cell_type": "code",
   "execution_count": null,
   "id": "afaf36a2",
   "metadata": {},
   "outputs": [
    {
     "name": "stderr",
     "output_type": "stream",
     "text": [
      "/var/folders/yv/f9fb76l15fb9d7249jmc3v2w0000gn/T/ipykernel_18709/1029406099.py:3: FutureWarning: A value is trying to be set on a copy of a DataFrame or Series through chained assignment using an inplace method.\n",
      "The behavior will change in pandas 3.0. This inplace method will never work because the intermediate object on which we are setting values always behaves as a copy.\n",
      "\n",
      "For example, when doing 'df[col].method(value, inplace=True)', try using 'df.method({col: value}, inplace=True)' or df[col] = df[col].method(value) instead, to perform the operation inplace on the original object.\n",
      "\n",
      "\n",
      "  recipes['Recipe Servings'].fillna(recipes['Recipe Servings'].median(), inplace=True)\n",
      "/var/folders/yv/f9fb76l15fb9d7249jmc3v2w0000gn/T/ipykernel_18709/1029406099.py:4: FutureWarning: A value is trying to be set on a copy of a DataFrame or Series through chained assignment using an inplace method.\n",
      "The behavior will change in pandas 3.0. This inplace method will never work because the intermediate object on which we are setting values always behaves as a copy.\n",
      "\n",
      "For example, when doing 'df[col].method(value, inplace=True)', try using 'df.method({col: value}, inplace=True)' or df[col] = df[col].method(value) instead, to perform the operation inplace on the original object.\n",
      "\n",
      "\n",
      "  recipes['Rating'].fillna(recipes['Rating'].median(), inplace=True)\n"
     ]
    }
   ],
   "source": [
    "cap = recipes['Recipe Servings'].quantile(0.99)\n",
    "recipes['Recipe Servings'] = np.where(recipes['Recipe Servings'] > cap, cap, recipes['Recipe Servings'])\n",
    "recipes['Recipe Servings'].fillna(recipes['Recipe Servings'].median(), inplace=True)\n",
    "recipes['Rating'].fillna(recipes['Rating'].median(), inplace=True)\n",
    "# Any dtaa hving to much large number of reicpes gets pushed into 99th percentile, if there is empty serving we change it ot the medium. \n",
    "# also if any recipe is missing raitng i am adidng average raitng to it. "
   ]
  },
  {
   "cell_type": "code",
   "execution_count": null,
   "id": "6c2df7f8",
   "metadata": {},
   "outputs": [
    {
     "name": "stderr",
     "output_type": "stream",
     "text": [
      "/var/folders/yv/f9fb76l15fb9d7249jmc3v2w0000gn/T/ipykernel_18709/389002.py:2: FutureWarning: A value is trying to be set on a copy of a DataFrame or Series through chained assignment using an inplace method.\n",
      "The behavior will change in pandas 3.0. This inplace method will never work because the intermediate object on which we are setting values always behaves as a copy.\n",
      "\n",
      "For example, when doing 'df[col].method(value, inplace=True)', try using 'df.method({col: value}, inplace=True)' or df[col] = df[col].method(value) instead, to perform the operation inplace on the original object.\n",
      "\n",
      "\n",
      "  nutrition[col].fillna(nutrition[col].median(), inplace=True)\n"
     ]
    }
   ],
   "source": [
    "for col in ['VitaminK', 'VitaminE']:\n",
    "    nutrition[col].fillna(nutrition[col].median(), inplace=True)\n",
    "# As per EDA , there ar emsing values for vitamin E and K, blank places get median vitamin value. "
   ]
  },
  {
   "cell_type": "code",
   "execution_count": null,
   "id": "f4fda754",
   "metadata": {},
   "outputs": [],
   "source": [
    "price_map = {'$':1, '$$':2, '$$$':3, '$$$$':4}\n",
    "restaurants['price_bin'] = restaurants['PriceRange'].map(price_map).fillna(0).astype(int)\n",
    "restaurants['hours_open'] = (restaurants['ClosingHour'] - restaurants['OpeningHour']).clip(lower=0)\n",
    "restaurants['cost_bin'] = pd.qcut(restaurants['AverageCostForTwo'], q=4, labels=[1,2,3,4]).astype(int)\n",
    "# Added a price bin to tell which restuanrt is how mich expensive, hours open tells hoe long the restuanrant is open for. \n"
   ]
  },
  {
   "cell_type": "code",
   "execution_count": 10,
   "id": "5bcc9548",
   "metadata": {},
   "outputs": [],
   "source": [
    "recipes = recipes.rename(columns={\n",
    "    'Num Ingredients': 'num_ingredients',\n",
    "    'Num Steps':       'num_steps'\n",
    "})"
   ]
  },
  {
   "cell_type": "code",
   "execution_count": null,
   "id": "90db7e8f",
   "metadata": {},
   "outputs": [],
   "source": [
    "nutrition['energy_density'] = (\n",
    "    nutrition['Calories'] /\n",
    "    (nutrition['Protein'] + nutrition['FatTotal'] + nutrition['Carbohydrates'])\n",
    ").replace([np.inf, -np.inf], np.nan).fillna(0)\n",
    "# here i am calculating calories per gram. "
   ]
  },
  {
   "cell_type": "code",
   "execution_count": 12,
   "id": "3113a3a8",
   "metadata": {},
   "outputs": [],
   "source": [
    "restaurants.to_csv('Restaurants_Featured.csv', index=False)\n",
    "recipes.to_csv('Recipes_Featured.csv', index=False)\n",
    "nutrition.to_csv('Nutrition_Featured.csv', index=False)"
   ]
  },
  {
   "cell_type": "code",
   "execution_count": null,
   "id": "297a5acf",
   "metadata": {},
   "outputs": [],
   "source": [
    "restaurants = restaurants.drop(columns=[\n",
    "    'Timings', 'OpeningHour', 'ClosingHour'])"
   ]
  },
  {
   "cell_type": "code",
   "execution_count": 17,
   "id": "ab87dcd2",
   "metadata": {},
   "outputs": [],
   "source": [
    "recipes = recipes.drop(columns=[col for col in ['num_ingredients.1','num_steps.1'] if col in recipes.columns])"
   ]
  }
 ],
 "metadata": {
  "kernelspec": {
   "display_name": "base",
   "language": "python",
   "name": "python3"
  },
  "language_info": {
   "codemirror_mode": {
    "name": "ipython",
    "version": 3
   },
   "file_extension": ".py",
   "mimetype": "text/x-python",
   "name": "python",
   "nbconvert_exporter": "python",
   "pygments_lexer": "ipython3",
   "version": "3.12.7"
  }
 },
 "nbformat": 4,
 "nbformat_minor": 5
}
